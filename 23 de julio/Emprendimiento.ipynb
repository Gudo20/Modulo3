{
 "cells": [
  {
   "cell_type": "code",
   "execution_count": 13,
   "metadata": {},
   "outputs": [
    {
     "data": {
      "text/plain": [
       "'\\n#Emprendedor1.py\\n\\nP=float(input(\"Ingrese el precio de la suscripcion\"))\\nU=float(input(\"Ingrese numero de Usuarios\"))\\nGT=float(input(\"Ingrese el numero de gastos totales\"))\\nUtilidades= (P*U)-GT\\n\\n#print(f'"
      ]
     },
     "execution_count": 13,
     "metadata": {},
     "output_type": "execute_result"
    }
   ],
   "source": [
    "'''\n",
    "#Emprendedor1.py\n",
    "\n",
    "P=float(input(\"Ingrese el precio de la suscripcion\"))\n",
    "U=float(input(\"Ingrese numero de Usuarios\"))\n",
    "GT=float(input(\"Ingrese el numero de gastos totales\"))\n",
    "Utilidades= (P*U)-GT\n",
    "\n",
    "#print(f'''\n",
    "#        Precio de la Suscripcion: {P}\n",
    "#        Numero de Usuarios: {U}\n",
    "#        Sus gastos Totales Equivalen a: {GT}\n",
    "#\n",
    "#        Su emprendimiento genera {Utilidades} en utilidades\n",
    "#      ''')\n"
   ]
  },
  {
   "cell_type": "code",
   "execution_count": 14,
   "metadata": {},
   "outputs": [],
   "source": [
    "#VEmprendedor2.py .\n",
    "\n",
    "#P=float(input(\"Ingrese el precio de la suscripcion normal\"))\n",
    "#U_Normal=float(input(\"Ingrese numero de Usuarios normales\"))\n",
    "#U_Premiun=float(input(\"Ingrese numero de Usuarios premium\"))\n",
    "#GT=float(input(\"Ingrese el numero de gastos totales\"))\n",
    "\n",
    "#Utilidades= ((P*U_Normal)+(U_Premiun*(P+(P*0.5))))-GT\n",
    "\n",
    "#print(f'''\n",
    "#        Precio de la Suscripcion normal: {P_normal}\n",
    "#        Numero de Usuarios normales: {U_Normal} \n",
    "#        Numero de Usuarios premium: {U_Premiun}\n",
    "#        Sus gastos Totales Equivalen a: {GT}\n",
    "#\n",
    "#        Su emprendimiento genera {Utilidades} en utilidades\n",
    "#      ''')"
   ]
  },
  {
   "cell_type": "code",
   "execution_count": 15,
   "metadata": {},
   "outputs": [
    {
     "name": "stdout",
     "output_type": "stream",
     "text": [
      "\n",
      "        Precio de la Suscripcion: 1000.0\n",
      "        Numero de Usuarios: 10.0\n",
      "        Sus gastos Totales Equivalen a: 1000.0\n",
      "        Su emprendimiento genera 9000.0 en utilidades\n",
      "        Sus utilidades del anio anterior fueron: 9000.0\n",
      "        La razon entre las utilidades de este anio y el anterior es  100.00 %\n",
      "     \n"
     ]
    }
   ],
   "source": [
    "#Emprendedor 3.py\n",
    "\n",
    "P=float(input(\"Ingrese el precio de la suscripcion\"))\n",
    "U=float(input(\"Ingrese numero de Usuarios normales\"))\n",
    "GT=float(input(\"Ingrese el numero de gastos totales\"))\n",
    "Uti_lastyear=float(input(\"Ingrese las utilidades de su emprendimiento el anio anterior\"))\n",
    "Uti_actual= (P*U)-GT\n",
    "Razon_Utis= (Uti_actual/Uti_lastyear)\n",
    "\n",
    "print(f'''\n",
    "        Precio de la Suscripcion: {P}\n",
    "        Numero de Usuarios: {U}\n",
    "        Sus gastos Totales Equivalen a: {GT}\n",
    "        Su emprendimiento genera {Uti_actual} en utilidades\n",
    "        Sus utilidades del anio anterior fueron: {Uti_lastyear}\n",
    "        La razon entre las utilidades de este anio y el anterior es {Razon_Utis: .2f}\n",
    "     ''')\n"
   ]
  }
 ],
 "metadata": {
  "kernelspec": {
   "display_name": "Python 3",
   "language": "python",
   "name": "python3"
  },
  "language_info": {
   "codemirror_mode": {
    "name": "ipython",
    "version": 3
   },
   "file_extension": ".py",
   "mimetype": "text/x-python",
   "name": "python",
   "nbconvert_exporter": "python",
   "pygments_lexer": "ipython3",
   "version": "3.12.4"
  }
 },
 "nbformat": 4,
 "nbformat_minor": 2
}
