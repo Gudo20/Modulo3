{
 "cells": [
  {
   "cell_type": "code",
   "execution_count": 1,
   "metadata": {},
   "outputs": [
    {
     "data": {
      "text/plain": [
       "'\\n#Emprendedor1.py\\n\\nP=float(input(\"Ingrese el precio de la suscripcion\"))\\nU=float(input(\"Ingrese numero de Usuarios\"))\\nGT=float(input(\"Ingrese el numero de gastos totales\"))\\nUtilidades= (P*U)-GT\\n\\n#print(f'"
      ]
     },
     "execution_count": 1,
     "metadata": {},
     "output_type": "execute_result"
    }
   ],
   "source": [
    "'''\n",
    "#Emprendedor1.py\n",
    "\n",
    "P=float(input(\"Ingrese el precio de la suscripcion\"))\n",
    "U=float(input(\"Ingrese numero de Usuarios\"))\n",
    "GT=float(input(\"Ingrese el numero de gastos totales\"))\n",
    "Utilidades= (P*U)-GT\n",
    "\n",
    "#print(f'''\n",
    "#        Precio de la Suscripcion: {P}\n",
    "#        Numero de Usuarios: {U}\n",
    "#        Sus gastos Totales Equivalen a: {GT}\n",
    "#\n",
    "#        Su emprendimiento genera {Utilidades} en utilidades\n",
    "#      ''')\n"
   ]
  },
  {
   "cell_type": "code",
   "execution_count": 2,
   "metadata": {},
   "outputs": [],
   "source": [
    "#VEmprendedor2.py .\n",
    "\n",
    "#P=float(input(\"Ingrese el precio de la suscripcion normal\"))\n",
    "#U_Normal=float(input(\"Ingrese numero de Usuarios normales\"))\n",
    "#U_Premiun=float(input(\"Ingrese numero de Usuarios premium\"))\n",
    "#GT=float(input(\"Ingrese el numero de gastos totales\"))\n",
    "\n",
    "#Utilidades= ((P*U_Normal)+(U_Premiun*(P+(P*0.5))))-GT\n",
    "\n",
    "#print(f'''\n",
    "#        Precio de la Suscripcion normal: {P_normal}\n",
    "#        Numero de Usuarios normales: {U_Normal} \n",
    "#        Numero de Usuarios premium: {U_Premiun}\n",
    "#        Sus gastos Totales Equivalen a: {GT}\n",
    "#\n",
    "#        Su emprendimiento genera {Utilidades} en utilidades\n",
    "#      ''')"
   ]
  },
  {
   "cell_type": "code",
   "execution_count": 3,
   "metadata": {},
   "outputs": [
    {
     "ename": "NameError",
     "evalue": "name 'Utilidades' is not defined",
     "output_type": "error",
     "traceback": [
      "\u001b[1;31m---------------------------------------------------------------------------\u001b[0m",
      "\u001b[1;31mNameError\u001b[0m                                 Traceback (most recent call last)",
      "Cell \u001b[1;32mIn[3], line 14\u001b[0m\n\u001b[0;32m      7\u001b[0m Uti_actual\u001b[38;5;241m=\u001b[39m (P\u001b[38;5;241m*\u001b[39mU)\u001b[38;5;241m-\u001b[39mGT\n\u001b[0;32m      8\u001b[0m Razon_Utis\u001b[38;5;241m=\u001b[39m (Uti_actual\u001b[38;5;241m/\u001b[39m\u001b[38;5;241m/\u001b[39mUti_lastyear)\n\u001b[0;32m     10\u001b[0m \u001b[38;5;28mprint\u001b[39m(\u001b[38;5;124mf\u001b[39m\u001b[38;5;124m'''\u001b[39m\n\u001b[0;32m     11\u001b[0m \u001b[38;5;124m        Precio de la Suscripcion: \u001b[39m\u001b[38;5;132;01m{\u001b[39;00mP\u001b[38;5;132;01m}\u001b[39;00m\n\u001b[0;32m     12\u001b[0m \u001b[38;5;124m        Numero de Usuarios: \u001b[39m\u001b[38;5;132;01m{\u001b[39;00mU\u001b[38;5;132;01m}\u001b[39;00m\n\u001b[0;32m     13\u001b[0m \u001b[38;5;124m        Sus gastos Totales Equivalen a: \u001b[39m\u001b[38;5;132;01m{\u001b[39;00mGT\u001b[38;5;132;01m}\u001b[39;00m\n\u001b[1;32m---> 14\u001b[0m \u001b[38;5;124m        Su emprendimiento genera \u001b[39m\u001b[38;5;132;01m{\u001b[39;00m\u001b[43mUtilidades\u001b[49m\u001b[38;5;132;01m}\u001b[39;00m\u001b[38;5;124m en utilidades\u001b[39m\n\u001b[0;32m     15\u001b[0m \u001b[38;5;124m        Sus utilidades del año anterior fueron: \u001b[39m\u001b[38;5;132;01m{\u001b[39;00mUti_lastyear\u001b[38;5;132;01m}\u001b[39;00m\n\u001b[0;32m     16\u001b[0m \u001b[38;5;124m        La razon entre las utilidades de este año y el anterior es \u001b[39m\u001b[38;5;132;01m{\u001b[39;00mRazon_Utis\u001b[38;5;132;01m}\u001b[39;00m\n\u001b[0;32m     17\u001b[0m \u001b[38;5;124m     \u001b[39m\u001b[38;5;124m'''\u001b[39m)\n",
      "\u001b[1;31mNameError\u001b[0m: name 'Utilidades' is not defined"
     ]
    }
   ],
   "source": [
    "#Emprendedor 3.\n",
    "\n",
    "P=float(input(\"Ingrese el precio de la suscripcion\"))\n",
    "U=float(input(\"Ingrese numero de Usuarios normales\"))\n",
    "GT=float(input(\"Ingrese el numero de gastos totales\"))\n",
    "Uti_lastyear=float(input(\"Ingrese las utilidades de su emprendimiento el año anterior\"))\n",
    "Uti_actual= (P*U)-GT\n",
    "Razon_Utis= (Uti_actual//Uti_lastyear)\n",
    "\n",
    "print(f'''\n",
    "        Precio de la Suscripcion: {P}\n",
    "        Numero de Usuarios: {U}\n",
    "        Sus gastos Totales Equivalen a: {GT}\n",
    "        Su emprendimiento genera {Uti_actual} en utilidades\n",
    "        Sus utilidades del año anterior fueron: {Uti_lastyear}\n",
    "        La razon entre las utilidades de este año y el anterior es {Razon_Utis}\n",
    "     ''')\n",
    "\n",
    "\n",
    "\n"
   ]
  }
 ],
 "metadata": {
  "kernelspec": {
   "display_name": "Python 3",
   "language": "python",
   "name": "python3"
  },
  "language_info": {
   "codemirror_mode": {
    "name": "ipython",
    "version": 3
   },
   "file_extension": ".py",
   "mimetype": "text/x-python",
   "name": "python",
   "nbconvert_exporter": "python",
   "pygments_lexer": "ipython3",
   "version": "3.12.4"
  }
 },
 "nbformat": 4,
 "nbformat_minor": 2
}
