{
 "cells": [
  {
   "cell_type": "code",
   "execution_count": null,
   "metadata": {},
   "outputs": [],
   "source": [
    "\n",
    "#import math\n",
    "#gravedad=float(input(\"Ingrese la constante gravitatoria de la tierra\"))\n",
    "#radio=float(input(\"Ingrese el radio de la tierra\"))\n",
    "#velocidadEscape=math.sqrt(2*gravedad*(radio*1000))\n",
    "#print(f'''\n",
    "#      La constante gravitaria de la tierra es: {gravedad}\n",
    "#      El radio de la tierra es: {radio}\n",
    "#      La velocidad de escape es: {velocidadEscape: .1f}\n",
    "#    ''' )"
   ]
  }
 ],
 "metadata": {
  "kernelspec": {
   "display_name": "Python 3",
   "language": "python",
   "name": "python3"
  },
  "language_info": {
   "codemirror_mode": {
    "name": "ipython",
    "version": 3
   },
   "file_extension": ".py",
   "mimetype": "text/x-python",
   "name": "python",
   "nbconvert_exporter": "python",
   "pygments_lexer": "ipython3",
   "version": "3.12.4"
  }
 },
 "nbformat": 4,
 "nbformat_minor": 2
}
