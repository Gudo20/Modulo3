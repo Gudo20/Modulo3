{
 "cells": [
  {
   "cell_type": "code",
   "execution_count": 61,
   "metadata": {},
   "outputs": [
    {
     "data": {
      "text/plain": [
       "'\\nr =float(input(\"Ingrese el radio de la circunferencia\"))\\npi=3.14\\nperimetro= 2.0 * r * pi\\nprint(f\"El perimetro de la circunferencia es: {perimetro: .2f}\")\\n'"
      ]
     },
     "execution_count": 61,
     "metadata": {},
     "output_type": "execute_result"
    }
   ],
   "source": [
    "'''\n",
    "r =float(input(\"Ingrese el radio de la circunferencia\"))\n",
    "pi=3.14\n",
    "perimetro= 2.0 * r * pi\n",
    "print(f\"El perimetro de la circunferencia es: {perimetro: .2f}\")\n",
    "'''"
   ]
  },
  {
   "cell_type": "code",
   "execution_count": 62,
   "metadata": {},
   "outputs": [
    {
     "data": {
      "text/plain": [
       "'\\nx=int(input(\"Ingrese x\"))\\nif x>=0:\\n    print(\"Es positivo\")\\nelse:\\n    print(\"Es negativo\")\\n'"
      ]
     },
     "execution_count": 62,
     "metadata": {},
     "output_type": "execute_result"
    }
   ],
   "source": [
    "'''\n",
    "x=int(input(\"Ingrese x\"))\n",
    "if x>=0:\n",
    "    print(\"Es positivo\")\n",
    "else:\n",
    "    print(\"Es negativo\")\n",
    "'''"
   ]
  },
  {
   "cell_type": "code",
   "execution_count": 63,
   "metadata": {},
   "outputs": [
    {
     "data": {
      "text/plain": [
       "'\\nedad=int(input(\"Ingrese su edad\"))\\nif edad >=18:\\n    print(\"Usted es apto para tramitar su licencia de conducir\")\\nelse:\\n    print(\"Usted no es apto para tramitar su licencia. Motivo: Menor de edad\")\\n'"
      ]
     },
     "execution_count": 63,
     "metadata": {},
     "output_type": "execute_result"
    }
   ],
   "source": [
    "'''\n",
    "edad=int(input(\"Ingrese su edad\"))\n",
    "if edad >=18:\n",
    "    print(\"Usted es apto para tramitar su licencia de conducir\")\n",
    "else:\n",
    "    print(\"Usted no es apto para tramitar su licencia. Motivo: Menor de edad\")\n",
    "'''"
   ]
  },
  {
   "cell_type": "code",
   "execution_count": 64,
   "metadata": {},
   "outputs": [
    {
     "name": "stdout",
     "output_type": "stream",
     "text": [
      "Usted no es apto para tramitar su licencia.\n"
     ]
    }
   ],
   "source": [
    "edad=int(input(\"Ingrese su edad\"))\n",
    "acom= True\n",
    "if edad >=18 and edad<=80:\n",
    "    print(\"Usted es apto para tramitar su licencia de conducir\")\n",
    "elif edad>=16 and edad<=18:\n",
    "    print(\"Puedes obtenerla con un acompañante\")\n",
    "else:\n",
    "    print(\"Usted no es apto para tramitar su licencia.\")\n"
   ]
  }
 ],
 "metadata": {
  "kernelspec": {
   "display_name": "Python 3",
   "language": "python",
   "name": "python3"
  },
  "language_info": {
   "codemirror_mode": {
    "name": "ipython",
    "version": 3
   },
   "file_extension": ".py",
   "mimetype": "text/x-python",
   "name": "python",
   "nbconvert_exporter": "python",
   "pygments_lexer": "ipython3",
   "version": "3.12.4"
  }
 },
 "nbformat": 4,
 "nbformat_minor": 2
}
